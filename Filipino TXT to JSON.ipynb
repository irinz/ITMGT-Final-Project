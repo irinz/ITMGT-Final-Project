{
 "cells": [
  {
   "cell_type": "code",
   "execution_count": 19,
   "id": "bd6a6cf0",
   "metadata": {},
   "outputs": [],
   "source": [
    "import json\n",
    "\n",
    "# Reading the provided Filipino dictionary\n",
    "filo_words_list = []\n",
    "with open(\"tagalog_dict.txt\",\"r\") as f:\n",
    "    words = f.read()\n",
    "filo_words_list = words.split(\"\\n\")\n",
    "\n",
    "# Making JSON File\n",
    "filo_dict_json = json.dumps(filo_words_list)\n",
    "with open(\"filo_dict.json\", \"w\") as j:\n",
    "    j.write(filo_dict_json)"
   ]
  }
 ],
 "metadata": {
  "kernelspec": {
   "display_name": "Python 3",
   "language": "python",
   "name": "python3"
  },
  "language_info": {
   "codemirror_mode": {
    "name": "ipython",
    "version": 3
   },
   "file_extension": ".py",
   "mimetype": "text/x-python",
   "name": "python",
   "nbconvert_exporter": "python",
   "pygments_lexer": "ipython3",
   "version": "3.8.8"
  }
 },
 "nbformat": 4,
 "nbformat_minor": 5
}
